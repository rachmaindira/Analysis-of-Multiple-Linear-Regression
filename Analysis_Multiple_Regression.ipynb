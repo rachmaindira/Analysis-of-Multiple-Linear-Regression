{
  "nbformat": 4,
  "nbformat_minor": 0,
  "metadata": {
    "kernelspec": {
      "display_name": "Python 3",
      "language": "python",
      "name": "python3"
    },
    "language_info": {
      "codemirror_mode": {
        "name": "ipython",
        "version": 3
      },
      "file_extension": ".py",
      "mimetype": "text/x-python",
      "name": "python",
      "nbconvert_exporter": "python",
      "pygments_lexer": "ipython3",
      "version": "3.8.3"
    },
    "colab": {
      "name": "Analysis Multiple Regression.ipynb",
      "provenance": [],
      "collapsed_sections": [],
      "toc_visible": true
    }
  },
  "cells": [
    {
      "cell_type": "markdown",
      "metadata": {
        "id": "OZC4zjZV3mj4"
      },
      "source": [
        "**Rachma Indira - DS0218**"
      ]
    },
    {
      "cell_type": "markdown",
      "metadata": {
        "id": "mZgNk5_d3x98"
      },
      "source": [
        "# Import Library"
      ]
    },
    {
      "cell_type": "code",
      "metadata": {
        "id": "Z9R6X5CopZo4",
        "outputId": "350ae3a7-a2e3-4cc2-a4a8-482749ce9a5b",
        "colab": {
          "base_uri": "https://localhost:8080/",
          "height": 72
        }
      },
      "source": [
        "import pandas as pd\n",
        "import statsmodels.api as sm\n",
        "import seaborn as sns\n",
        "import matplotlib.pyplot as plt\n",
        "import warnings\n",
        "from sklearn import linear_model\n",
        "\n",
        "warnings.filterwarnings('ignore')\n",
        "plt.rcParams['figure.figsize'] = (7, 7)\n",
        "plt.style.use('ggplot')"
      ],
      "execution_count": 1,
      "outputs": [
        {
          "output_type": "stream",
          "text": [
            "/usr/local/lib/python3.6/dist-packages/statsmodels/tools/_testing.py:19: FutureWarning: pandas.util.testing is deprecated. Use the functions in the public API at pandas.testing instead.\n",
            "  import pandas.util.testing as tm\n"
          ],
          "name": "stderr"
        }
      ]
    },
    {
      "cell_type": "markdown",
      "metadata": {
        "id": "vhdrcJHm32cY"
      },
      "source": [
        "# Import dataset"
      ]
    },
    {
      "cell_type": "code",
      "metadata": {
        "id": "opslygMKpZpH",
        "outputId": "961a59b1-b93e-44ce-d9cb-f73299247296",
        "colab": {
          "base_uri": "https://localhost:8080/",
          "height": 515
        }
      },
      "source": [
        "# Import Dataset\n",
        "df_pie = pd.read_csv('https://raw.githubusercontent.com/rc-dbe/dti/main/data/pie-sales.csv', sep =\";\")\n",
        "df_pie"
      ],
      "execution_count": 2,
      "outputs": [
        {
          "output_type": "execute_result",
          "data": {
            "text/html": [
              "<div>\n",
              "<style scoped>\n",
              "    .dataframe tbody tr th:only-of-type {\n",
              "        vertical-align: middle;\n",
              "    }\n",
              "\n",
              "    .dataframe tbody tr th {\n",
              "        vertical-align: top;\n",
              "    }\n",
              "\n",
              "    .dataframe thead th {\n",
              "        text-align: right;\n",
              "    }\n",
              "</style>\n",
              "<table border=\"1\" class=\"dataframe\">\n",
              "  <thead>\n",
              "    <tr style=\"text-align: right;\">\n",
              "      <th></th>\n",
              "      <th>week</th>\n",
              "      <th>pie_sales</th>\n",
              "      <th>price</th>\n",
              "      <th>advertising</th>\n",
              "    </tr>\n",
              "  </thead>\n",
              "  <tbody>\n",
              "    <tr>\n",
              "      <th>0</th>\n",
              "      <td>1</td>\n",
              "      <td>350</td>\n",
              "      <td>5.5</td>\n",
              "      <td>3.3</td>\n",
              "    </tr>\n",
              "    <tr>\n",
              "      <th>1</th>\n",
              "      <td>2</td>\n",
              "      <td>460</td>\n",
              "      <td>7.5</td>\n",
              "      <td>3.3</td>\n",
              "    </tr>\n",
              "    <tr>\n",
              "      <th>2</th>\n",
              "      <td>3</td>\n",
              "      <td>350</td>\n",
              "      <td>8.0</td>\n",
              "      <td>3.0</td>\n",
              "    </tr>\n",
              "    <tr>\n",
              "      <th>3</th>\n",
              "      <td>4</td>\n",
              "      <td>430</td>\n",
              "      <td>8.0</td>\n",
              "      <td>4.5</td>\n",
              "    </tr>\n",
              "    <tr>\n",
              "      <th>4</th>\n",
              "      <td>5</td>\n",
              "      <td>350</td>\n",
              "      <td>6.8</td>\n",
              "      <td>3.0</td>\n",
              "    </tr>\n",
              "    <tr>\n",
              "      <th>5</th>\n",
              "      <td>6</td>\n",
              "      <td>380</td>\n",
              "      <td>7.5</td>\n",
              "      <td>4.0</td>\n",
              "    </tr>\n",
              "    <tr>\n",
              "      <th>6</th>\n",
              "      <td>7</td>\n",
              "      <td>430</td>\n",
              "      <td>4.5</td>\n",
              "      <td>3.0</td>\n",
              "    </tr>\n",
              "    <tr>\n",
              "      <th>7</th>\n",
              "      <td>8</td>\n",
              "      <td>470</td>\n",
              "      <td>6.4</td>\n",
              "      <td>3.7</td>\n",
              "    </tr>\n",
              "    <tr>\n",
              "      <th>8</th>\n",
              "      <td>9</td>\n",
              "      <td>450</td>\n",
              "      <td>7.0</td>\n",
              "      <td>3.5</td>\n",
              "    </tr>\n",
              "    <tr>\n",
              "      <th>9</th>\n",
              "      <td>10</td>\n",
              "      <td>490</td>\n",
              "      <td>5.0</td>\n",
              "      <td>4.0</td>\n",
              "    </tr>\n",
              "    <tr>\n",
              "      <th>10</th>\n",
              "      <td>11</td>\n",
              "      <td>340</td>\n",
              "      <td>7.2</td>\n",
              "      <td>3.5</td>\n",
              "    </tr>\n",
              "    <tr>\n",
              "      <th>11</th>\n",
              "      <td>12</td>\n",
              "      <td>300</td>\n",
              "      <td>7.9</td>\n",
              "      <td>3.2</td>\n",
              "    </tr>\n",
              "    <tr>\n",
              "      <th>12</th>\n",
              "      <td>13</td>\n",
              "      <td>440</td>\n",
              "      <td>5.9</td>\n",
              "      <td>4.0</td>\n",
              "    </tr>\n",
              "    <tr>\n",
              "      <th>13</th>\n",
              "      <td>14</td>\n",
              "      <td>450</td>\n",
              "      <td>5.0</td>\n",
              "      <td>3.5</td>\n",
              "    </tr>\n",
              "    <tr>\n",
              "      <th>14</th>\n",
              "      <td>15</td>\n",
              "      <td>300</td>\n",
              "      <td>7.0</td>\n",
              "      <td>2.7</td>\n",
              "    </tr>\n",
              "  </tbody>\n",
              "</table>\n",
              "</div>"
            ],
            "text/plain": [
              "    week  pie_sales  price  advertising\n",
              "0      1        350    5.5          3.3\n",
              "1      2        460    7.5          3.3\n",
              "2      3        350    8.0          3.0\n",
              "3      4        430    8.0          4.5\n",
              "4      5        350    6.8          3.0\n",
              "5      6        380    7.5          4.0\n",
              "6      7        430    4.5          3.0\n",
              "7      8        470    6.4          3.7\n",
              "8      9        450    7.0          3.5\n",
              "9     10        490    5.0          4.0\n",
              "10    11        340    7.2          3.5\n",
              "11    12        300    7.9          3.2\n",
              "12    13        440    5.9          4.0\n",
              "13    14        450    5.0          3.5\n",
              "14    15        300    7.0          2.7"
            ]
          },
          "metadata": {
            "tags": []
          },
          "execution_count": 2
        }
      ]
    },
    {
      "cell_type": "markdown",
      "metadata": {
        "id": "z1RZaZ1j3-2-"
      },
      "source": [
        "# Visualisasi dengan scatter plot"
      ]
    },
    {
      "cell_type": "code",
      "metadata": {
        "id": "YxWShU7WpZpb",
        "outputId": "65491fc3-5e8e-4bbc-f842-1c6aad0fe78e",
        "colab": {
          "base_uri": "https://localhost:8080/",
          "height": 403
        }
      },
      "source": [
        "# Visualize the data using scatterplot\n",
        "sns.lmplot(x=\"price\", y=\"pie_sales\", data= df_pie)"
      ],
      "execution_count": 3,
      "outputs": [
        {
          "output_type": "execute_result",
          "data": {
            "text/plain": [
              "<seaborn.axisgrid.FacetGrid at 0x7f68710cf780>"
            ]
          },
          "metadata": {
            "tags": []
          },
          "execution_count": 3
        },
        {
          "output_type": "display_data",
          "data": {
            "image/png": "[encoded data removed]",
            "text/plain": [
              "<Figure size 360x360 with 1 Axes>"
            ]
          },
          "metadata": {
            "tags": [],
            "needs_background": "light"
          }
        }
      ]
    },
    {
      "cell_type": "code",
      "metadata": {
        "id": "4929RcoKpZpy",
        "outputId": "2346c1ea-c109-4440-abb1-5865755634ff",
        "colab": {
          "base_uri": "https://localhost:8080/",
          "height": 403
        }
      },
      "source": [
        "sns.lmplot(x=\"advertising\", y=\"pie_sales\", data= df_pie)"
      ],
      "execution_count": 4,
      "outputs": [
        {
          "output_type": "execute_result",
          "data": {
            "text/plain": [
              "<seaborn.axisgrid.FacetGrid at 0x7f6870ffe160>"
            ]
          },
          "metadata": {
            "tags": []
          },
          "execution_count": 4
        },
        {
          "output_type": "display_data",
          "data": {
            "image/png": "[encoded data removed]",
            "text/plain": [
              "<Figure size 360x360 with 1 Axes>"
            ]
          },
          "metadata": {
            "tags": [],
            "needs_background": "light"
          }
        }
      ]
    },
    {
      "cell_type": "markdown",
      "metadata": {
        "id": "_HxrmfoS4Qro"
      },
      "source": [
        "**Hasil analisis**\n",
        "\n",
        "Y merupakan variabel dependent, Y adalah kolom pie_sales. Sedangkan variabel independen yang ada adalah Advertising dan Price\n",
        "\n",
        "***1.   Korelasi antar variabel***\n",
        "\n",
        "A. Korelasi dari plot pertama adalah **price terhadap pie_sales**.  Korelasi yang terjadi antara 2 variabel tersebut adalah korelasi negatif. Artinya, kedua variabel ini mengalami perubahan yang berlawanan. Dalam plot terlihat bahwa garis yang menghubungkan kedua variabel menjadi menurun. Artinya semakin tinggi price maka hasil pie_sales akan berlawanan, yaitu menurun\n",
        "\n",
        "B. Korelasi dari plot pertama adalah **advertising terhadap pie_sales**.  Korelasi yang terjadi antara 2 variabel tersebut adalah korelasi positif. Artinya, kedua variabel ini mengalami perubahan yang bersamaan. Dalam plot terlihat bahwa garis yang menghubungkan kedua variabel menjadi naik. Artinya semakin tinggi advertising maka hasil pie_sales akan sama, yaitu naik.\n",
        "\n",
        "***2.   Item daftar***\n",
        "\n"
      ]
    },
    {
      "cell_type": "markdown",
      "metadata": {
        "id": "a3aBj4WZ4G1Y"
      },
      "source": [
        "# Regresi Linear"
      ]
    },
    {
      "cell_type": "code",
      "metadata": {
        "id": "2aH-k6MOpZqL",
        "outputId": "0ebd4256-37d5-4cab-d094-1adcbbd7e916",
        "colab": {
          "base_uri": "https://localhost:8080/",
          "height": 34
        }
      },
      "source": [
        "df_pie.columns"
      ],
      "execution_count": 5,
      "outputs": [
        {
          "output_type": "execute_result",
          "data": {
            "text/plain": [
              "Index(['week', 'pie_sales', 'price', 'advertising'], dtype='object')"
            ]
          },
          "metadata": {
            "tags": []
          },
          "execution_count": 5
        }
      ]
    },
    {
      "cell_type": "code",
      "metadata": {
        "id": "22ypJQLUpZqe"
      },
      "source": [
        "X = df_pie[['price', 'advertising']]\n",
        "Y = df_pie['pie_sales']"
      ],
      "execution_count": 6,
      "outputs": []
    },
    {
      "cell_type": "code",
      "metadata": {
        "id": "syfM97whpZrD",
        "outputId": "72bbf027-437c-4be3-8e27-f0b262fab57f",
        "colab": {
          "base_uri": "https://localhost:8080/",
          "height": 34
        }
      },
      "source": [
        "# with sklearn\n",
        "regr = linear_model.LinearRegression()\n",
        "regr.fit(X, Y)"
      ],
      "execution_count": 9,
      "outputs": [
        {
          "output_type": "execute_result",
          "data": {
            "text/plain": [
              "LinearRegression(copy_X=True, fit_intercept=True, n_jobs=None, normalize=False)"
            ]
          },
          "metadata": {
            "tags": []
          },
          "execution_count": 9
        }
      ]
    },
    {
      "cell_type": "code",
      "metadata": {
        "id": "YohlGB2MpZrM",
        "outputId": "c4c89ec2-6f58-4a85-fa45-407700ee7ef2",
        "colab": {
          "base_uri": "https://localhost:8080/",
          "height": 86
        }
      },
      "source": [
        "print('Intercept: \\n', regr.intercept_)\n",
        "print('Coefficients: \\n', regr.coef_)"
      ],
      "execution_count": 10,
      "outputs": [
        {
          "output_type": "stream",
          "text": [
            "Intercept: \n",
            " 306.5261932837436\n",
            "Coefficients: \n",
            " [-24.97508952  74.13095749]\n"
          ],
          "name": "stdout"
        }
      ]
    },
    {
      "cell_type": "code",
      "metadata": {
        "id": "clJRBsbkpZrX",
        "outputId": "7d6b00ac-f1e3-48a4-bc2b-e0d1ccf08cc0",
        "colab": {
          "base_uri": "https://localhost:8080/",
          "height": 34
        }
      },
      "source": [
        "X['price'].mean()"
      ],
      "execution_count": 11,
      "outputs": [
        {
          "output_type": "execute_result",
          "data": {
            "text/plain": [
              "6.613333333333333"
            ]
          },
          "metadata": {
            "tags": []
          },
          "execution_count": 11
        }
      ]
    },
    {
      "cell_type": "code",
      "metadata": {
        "id": "SfAAVs8hpZrf",
        "outputId": "f58ea961-a8c3-4aab-a5c3-1c374c73ff02",
        "colab": {
          "base_uri": "https://localhost:8080/",
          "height": 34
        }
      },
      "source": [
        "X['advertising'].mean()"
      ],
      "execution_count": 12,
      "outputs": [
        {
          "output_type": "execute_result",
          "data": {
            "text/plain": [
              "3.48"
            ]
          },
          "metadata": {
            "tags": []
          },
          "execution_count": 12
        }
      ]
    },
    {
      "cell_type": "code",
      "metadata": {
        "id": "gAzYd1eWWooD",
        "outputId": "3ae3db7c-5082-4446-ea78-9506deeed5cd",
        "colab": {
          "base_uri": "https://localhost:8080/",
          "height": 172
        }
      },
      "source": [
        "Y.describe()"
      ],
      "execution_count": 22,
      "outputs": [
        {
          "output_type": "execute_result",
          "data": {
            "text/plain": [
              "count     15.000000\n",
              "mean     399.333333\n",
              "std       63.523524\n",
              "min      300.000000\n",
              "25%      350.000000\n",
              "50%      430.000000\n",
              "75%      450.000000\n",
              "max      490.000000\n",
              "Name: pie_sales, dtype: float64"
            ]
          },
          "metadata": {
            "tags": []
          },
          "execution_count": 22
        }
      ]
    },
    {
      "cell_type": "code",
      "metadata": {
        "id": "eptD_nJwpZrx",
        "outputId": "48511e02-0a24-4ca9-e487-5edf8c9f82cc",
        "colab": {
          "base_uri": "https://localhost:8080/",
          "height": 52
        }
      },
      "source": [
        "# prediction with sklearn\n",
        "new_price = X['price'].mean()\n",
        "new_advertising = X['advertising'].mean()\n",
        "print ('Predicted  house price: \\n', regr.predict([[new_price, new_advertising]]))"
      ],
      "execution_count": 17,
      "outputs": [
        {
          "output_type": "stream",
          "text": [
            "Predicted  house price: \n",
            " [399.33333333]\n"
          ],
          "name": "stdout"
        }
      ]
    },
    {
      "cell_type": "code",
      "metadata": {
        "id": "KmIqpU9-pZr8"
      },
      "source": [
        "X = sm.add_constant(X) # adding a constant"
      ],
      "execution_count": 18,
      "outputs": []
    },
    {
      "cell_type": "code",
      "metadata": {
        "id": "NSN0J2JkpZsG",
        "outputId": "42762585-4f75-4fad-f844-74a852598c5d",
        "colab": {
          "base_uri": "https://localhost:8080/",
          "height": 465
        }
      },
      "source": [
        "model = sm.OLS(Y, X).fit()\n",
        "predictions = model.predict(X) \n",
        "\n",
        "print_model = model.summary()\n",
        "print(print_model)"
      ],
      "execution_count": 19,
      "outputs": [
        {
          "output_type": "stream",
          "text": [
            "                            OLS Regression Results                            \n",
            "==============================================================================\n",
            "Dep. Variable:              pie_sales   R-squared:                       0.521\n",
            "Model:                            OLS   Adj. R-squared:                  0.442\n",
            "Method:                 Least Squares   F-statistic:                     6.539\n",
            "Date:                Fri, 23 Oct 2020   Prob (F-statistic):             0.0120\n",
            "Time:                        21:16:46   Log-Likelihood:                -77.510\n",
            "No. Observations:                  15   AIC:                             161.0\n",
            "Df Residuals:                      12   BIC:                             163.1\n",
            "Df Model:                           2                                         \n",
            "Covariance Type:            nonrobust                                         \n",
            "===============================================================================\n",
            "                  coef    std err          t      P>|t|      [0.025      0.975]\n",
            "-------------------------------------------------------------------------------\n",
            "const         306.5262    114.254      2.683      0.020      57.588     555.464\n",
            "price         -24.9751     10.832     -2.306      0.040     -48.576      -1.374\n",
            "advertising    74.1310     25.967      2.855      0.014      17.553     130.709\n",
            "==============================================================================\n",
            "Omnibus:                        1.505   Durbin-Watson:                   1.683\n",
            "Prob(Omnibus):                  0.471   Jarque-Bera (JB):                0.937\n",
            "Skew:                           0.595   Prob(JB):                        0.626\n",
            "Kurtosis:                       2.709   Cond. No.                         72.2\n",
            "==============================================================================\n",
            "\n",
            "Warnings:\n",
            "[1] Standard Errors assume that the covariance matrix of the errors is correctly specified.\n"
          ],
          "name": "stdout"
        }
      ]
    },
    {
      "cell_type": "markdown",
      "metadata": {
        "id": "3uU1xVQfVvAS"
      },
      "source": [
        "***Hasil Analisis***\n",
        "\n",
        "\n",
        "\n",
        "1.   Hal pertama yang saya coba untuk analisis adalah mengenai intercepet dan koefisien. Dan berikut adalah hasil analisis yangs aya dapatkan :\n",
        "\n",
        "A. **Intercept** merupakan nilai yang didapat apabila kita mempunyai nilai semua variabel independen(X1,X2) adalah 0 maka berapa nilai variabel dependen(Y). Hal ini berfungsi untuk melihat seberapa besar pengaruh variabel independen yang ada. Jika dilihat, nilai minimum dari Y adalah 300 dan nilai max nya adalah 490, sedangkan nilai interceptnya adalah 306.5 . Sehingga dapat kita simpulkan, pengaruh dari variabel independen terhadap variabel dependen sangatlah berpengaruh, karena dapat meningkat penjualan yang awalnya 300 dan dapat naik hingga 490. Sekecil-kecilnya pengaruh variabel independen saja dapat meningkatkan pie_sales di angka 306. Jika dapat memanfaatkan informasi yang sebelumnya didapat, yaitu korelasi antar variabel, dipastikan nilai pie_sales akan naik secara pesat\n",
        "\n",
        "\n",
        "B. **Coefficient** merupakan nilai yang mengkalikan prediktor(kolom prediksi, dalam kasus ini adalah pie_Sales). Jadi coefficient ini melihat bagaimana pengaruh dari adanya variabel independet. Jika dilihat dalam kasus ini untuk kolom price adalah -24.97508952 dan kolom advertising 74.13095749. Untuk kolom price disebut dengan *negative sign* yang artinya jika nilai prediktor naik maka variabel X(price) akan menurun, begitu juga sebaliknya. Sedangkan untuk kolom advertising disebut dengan *positive sign* yang artinya jika nilai prediktor naik maka variabel X(advertising) juga akan naik, begitu juga sebaliknya.\n",
        "\n",
        "2.   Berikut adalah hasil analisis dari OLS Regression\n",
        "\n",
        "A. **R-squared** yaitu untuk melihat pengaruh dari variabel independen(X) terhadap variabel dependen(Y). Jika dilihat, hasil dari R-squared nya adalah 0.521 atau 52.1%. Angka tersebut mengandung arti bahwa variabel independen(yaitu advertising dan price)  secara bersama-sama berpengaruh terhadap nilai variabel dependen(pie_Sales)\n",
        "\n",
        "B. **Adj. R-squared** yaitu modifikasi dari r-square. Perbedaan antara r-squared dan adj r-squared adalah dari variabel yang digunakan. Dari beberapa sumber yang saya baca, jika variabel independen yang kita gunakan >= 2. Maka disarankan untuk menggunakan r-squared saja. Karena pada adj r-squared menyesuaikan pada statistik berdasarkan jumlah variabel independen dalam model.\n",
        "\n",
        "C. **Prob(F-Static)** yaitu untuk menilai pengaruh simultan  dari dependen variabel terhadap variabel independen, apakah bermakna secara statistik atau tidak. Jika nilai p value kurang dari batas kritis misalnya 0,05  maka menerima H1 atau yang berarti pengaruh simultan variabel prediktor terhadap variabel response terbukti bermakna secara statistik. Begitu sebaliknya jika nilai p value lebih dari batas kritis maka menerima H0 atau yang berarti pengaruh simultan variabel dependen terhadap variabel independe tidak terbukti bermakna secara statistik. Pada kasus ini nilain prob(f-static) adalah 0.0120 yang artinya **pengaruh dari dependen variabel terhadap independen variabel tidak terbukti bermakna secara statik**\n",
        "\n",
        "D. **AIC/BIC** yaitu metode yang dapat digunakan untuk memilih model regresi\n",
        "terbaik\n",
        "\n",
        "E. **Prob(Omnibus)** yaitu pada OLS ada salah satu asumsi adalah bahwa kesalahan dapat terdistribusi secara normal. Maka semakin kecil nilai omnibus, akan menghasilkan prediksi yang bagus karena artinya nilai error yang ada lebih sedikit. Pada kasus ini, nilai omnibusnya adalah 0.471 atau 47.1% yang artinya cukup tinggi\n",
        "\n",
        "F. **Durbin watson** adalah sebuah test yang digunakan untuk mendeteksi terjadinya autokorelasi pada nilai residual (prediction errors) dari sebuah analisis regresi. Yang dimaksud dengan Autokorelasi adalah “hubungan antara nilai-nilai yang dipisahkan satu sama lain dengan jeda waktu tertentu”. Pada kasus ini, nilai durbin watson nya adalah 1.683 \n",
        "\n",
        "G. **Prob(Jarque-Bera)** yaitu suatu metod untuk menguji normalitas. pada kasus ini nilainya adalah 0.937 atau 93.7%\n",
        "\n"
      ]
    }
  ]
}